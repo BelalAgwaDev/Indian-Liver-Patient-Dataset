{
  "nbformat": 4,
  "nbformat_minor": 0,
  "metadata": {
    "colab": {
      "name": "Indian Liver Patient Dataset.ipynb",
      "provenance": []
    },
    "kernelspec": {
      "name": "python3",
      "display_name": "Python 3"
    }
  },
  "cells": [
    {
      "cell_type": "markdown",
      "metadata": {
        "id": "LAzIOn7UUH4B"
      },
      "source": [
        "# **import library**"
      ]
    },
    {
      "cell_type": "code",
      "metadata": {
        "id": "epRYKsc0TzY8"
      },
      "source": [
        "import pickle\n",
        "import numpy as np\n",
        "import pandas as pd\n",
        "from sklearn import svm\n",
        "from sklearn.preprocessing import LabelEncoder\n",
        "from sklearn.model_selection import train_test_split\n",
        "np.random.seed(42)"
      ],
      "execution_count": 5,
      "outputs": []
    },
    {
      "cell_type": "markdown",
      "metadata": {
        "id": "a5OQ7ckjURAi"
      },
      "source": [
        "# **load data**"
      ]
    },
    {
      "cell_type": "code",
      "metadata": {
        "id": "3mt6yNeOT2mu"
      },
      "source": [
        "#load data\n",
        "load_data=pd.read_csv(r\"/content/Indian Liver Patient Dataset (ILPD).csv\")"
      ],
      "execution_count": 6,
      "outputs": []
    },
    {
      "cell_type": "markdown",
      "metadata": {
        "id": "qZBF4RJrUcPz"
      },
      "source": [
        "#view sample data\n"
      ]
    },
    {
      "cell_type": "code",
      "metadata": {
        "id": "NAHdStCcUY1O",
        "outputId": "bf466c78-2aa1-4b23-a289-8847759ac8d7",
        "colab": {
          "base_uri": "https://localhost:8080/"
        }
      },
      "source": [
        "print(load_data.head())"
      ],
      "execution_count": 7,
      "outputs": [
        {
          "output_type": "stream",
          "text": [
            "   age  gender  tot_bilirubin  ...  sgot  alkphos  is_patient\n",
            "0   65  Female            0.7  ...   3.3     0.90           1\n",
            "1   62    Male           10.9  ...   3.2     0.74           1\n",
            "2   62    Male            7.3  ...   3.3     0.89           1\n",
            "3   58    Male            1.0  ...   3.4     1.00           1\n",
            "4   72    Male            3.9  ...   2.4     0.40           1\n",
            "\n",
            "[5 rows x 11 columns]\n"
          ],
          "name": "stdout"
        }
      ]
    },
    {
      "cell_type": "markdown",
      "metadata": {
        "id": "Gm7KwJTtU0tN"
      },
      "source": [
        "# **handel missing data**"
      ]
    },
    {
      "cell_type": "code",
      "metadata": {
        "id": "eqfEdgkGUbxL",
        "outputId": "faf4937d-1296-4d92-8dae-a636f099fb2c",
        "colab": {
          "base_uri": "https://localhost:8080/"
        }
      },
      "source": [
        "print(load_data.info())\n",
        "\n"
      ],
      "execution_count": 8,
      "outputs": [
        {
          "output_type": "stream",
          "text": [
            "<class 'pandas.core.frame.DataFrame'>\n",
            "RangeIndex: 583 entries, 0 to 582\n",
            "Data columns (total 11 columns):\n",
            " #   Column            Non-Null Count  Dtype  \n",
            "---  ------            --------------  -----  \n",
            " 0   age               583 non-null    int64  \n",
            " 1   gender            583 non-null    object \n",
            " 2   tot_bilirubin     583 non-null    float64\n",
            " 3   direct_bilirubin  583 non-null    float64\n",
            " 4   tot_proteins      583 non-null    int64  \n",
            " 5   albumin           583 non-null    int64  \n",
            " 6   ag_ratio          583 non-null    int64  \n",
            " 7   sgpt              583 non-null    float64\n",
            " 8   sgot              583 non-null    float64\n",
            " 9   alkphos           579 non-null    float64\n",
            " 10  is_patient        583 non-null    int64  \n",
            "dtypes: float64(5), int64(5), object(1)\n",
            "memory usage: 50.2+ KB\n",
            "None\n"
          ],
          "name": "stdout"
        }
      ]
    },
    {
      "cell_type": "code",
      "metadata": {
        "id": "sOZ5Mptcpmqu"
      },
      "source": [
        "load_data.dropna(how=\"any\",inplace=True)"
      ],
      "execution_count": 9,
      "outputs": []
    },
    {
      "cell_type": "code",
      "metadata": {
        "id": "WuVeMxPiq3Uo",
        "outputId": "fa3b624f-d058-4b92-e871-cb8215a54736",
        "colab": {
          "base_uri": "https://localhost:8080/"
        }
      },
      "source": [
        "print(load_data.info())"
      ],
      "execution_count": 10,
      "outputs": [
        {
          "output_type": "stream",
          "text": [
            "<class 'pandas.core.frame.DataFrame'>\n",
            "Int64Index: 579 entries, 0 to 582\n",
            "Data columns (total 11 columns):\n",
            " #   Column            Non-Null Count  Dtype  \n",
            "---  ------            --------------  -----  \n",
            " 0   age               579 non-null    int64  \n",
            " 1   gender            579 non-null    object \n",
            " 2   tot_bilirubin     579 non-null    float64\n",
            " 3   direct_bilirubin  579 non-null    float64\n",
            " 4   tot_proteins      579 non-null    int64  \n",
            " 5   albumin           579 non-null    int64  \n",
            " 6   ag_ratio          579 non-null    int64  \n",
            " 7   sgpt              579 non-null    float64\n",
            " 8   sgot              579 non-null    float64\n",
            " 9   alkphos           579 non-null    float64\n",
            " 10  is_patient        579 non-null    int64  \n",
            "dtypes: float64(5), int64(5), object(1)\n",
            "memory usage: 54.3+ KB\n",
            "None\n"
          ],
          "name": "stdout"
        }
      ]
    },
    {
      "cell_type": "markdown",
      "metadata": {
        "id": "vTtT68pSVF_9"
      },
      "source": [
        "# ** map labled data **"
      ]
    },
    {
      "cell_type": "code",
      "metadata": {
        "id": "r2wah3tmVBnM"
      },
      "source": [
        "load_data[\"gender\"] =load_data[\"gender\"].map({\"Female\": 0 , \"Male\":1 })\n",
        "X=load_data.drop('is_patient',axis=1)\n",
        "y=load_data['is_patient']"
      ],
      "execution_count": 11,
      "outputs": []
    },
    {
      "cell_type": "markdown",
      "metadata": {
        "id": "YKxofxgHV3lm"
      },
      "source": [
        "#**split data to train \\ test**"
      ]
    },
    {
      "cell_type": "code",
      "metadata": {
        "id": "_7RJq4sPV9cG"
      },
      "source": [
        "x_train,x_test,y_train,y_test=train_test_split(X,y,test_size=0.2)"
      ],
      "execution_count": 12,
      "outputs": []
    },
    {
      "cell_type": "markdown",
      "metadata": {
        "id": "R4T1QWfoWJH8"
      },
      "source": [
        "#**choose model**\n",
        "\n"
      ]
    },
    {
      "cell_type": "code",
      "metadata": {
        "id": "Z_rN1aApV_tx"
      },
      "source": [
        "model=svm.SVC(C=1, gamma= 1, kernel='rbf')"
      ],
      "execution_count": 15,
      "outputs": []
    },
    {
      "cell_type": "markdown",
      "metadata": {
        "id": "gP_LmB1uWO5D"
      },
      "source": [
        "#**train model** "
      ]
    },
    {
      "cell_type": "code",
      "metadata": {
        "id": "a9txL9BxWyyC",
        "outputId": "d1e32e8a-3dc3-4255-b54b-cac6caf76a65",
        "colab": {
          "base_uri": "https://localhost:8080/"
        }
      },
      "source": [
        "model.fit(x_train,y_train)"
      ],
      "execution_count": 16,
      "outputs": [
        {
          "output_type": "execute_result",
          "data": {
            "text/plain": [
              "SVC(C=1, break_ties=False, cache_size=200, class_weight=None, coef0=0.0,\n",
              "    decision_function_shape='ovr', degree=3, gamma=1, kernel='rbf', max_iter=-1,\n",
              "    probability=False, random_state=None, shrinking=True, tol=0.001,\n",
              "    verbose=False)"
            ]
          },
          "metadata": {
            "tags": []
          },
          "execution_count": 16
        }
      ]
    },
    {
      "cell_type": "markdown",
      "metadata": {
        "id": "OByfqosvW76e"
      },
      "source": [
        "# **tune model parms**"
      ]
    },
    {
      "cell_type": "code",
      "metadata": {
        "id": "9I93qrR7W3h6",
        "outputId": "c6712727-5370-4358-fbcf-a2ad1046430f",
        "colab": {
          "base_uri": "https://localhost:8080/"
        }
      },
      "source": [
        "\"\"\"\n",
        "from sklearn.model_selection import GridSearchCV\n",
        "prams={\"kernel\":(\"linear\",\"rbf\"), \"C\":[1,5,10], \"gamma\":[1,0.1,0.01,0.001]}\n",
        "grid=GridSearchCV(svm.SVC(),prams,verbose=3)\n",
        "grid.fit(x_train,y_train)\n",
        "\"\"\""
      ],
      "execution_count": 13,
      "outputs": [
        {
          "output_type": "stream",
          "text": [
            "Fitting 5 folds for each of 24 candidates, totalling 120 fits\n",
            "[CV] C=1, gamma=1, kernel=linear .....................................\n"
          ],
          "name": "stdout"
        },
        {
          "output_type": "stream",
          "text": [
            "[Parallel(n_jobs=1)]: Using backend SequentialBackend with 1 concurrent workers.\n"
          ],
          "name": "stderr"
        },
        {
          "output_type": "stream",
          "text": [
            "[CV] ......... C=1, gamma=1, kernel=linear, score=0.731, total=  16.7s\n",
            "[CV] C=1, gamma=1, kernel=linear .....................................\n"
          ],
          "name": "stdout"
        },
        {
          "output_type": "stream",
          "text": [
            "[Parallel(n_jobs=1)]: Done   1 out of   1 | elapsed:   16.7s remaining:    0.0s\n"
          ],
          "name": "stderr"
        },
        {
          "output_type": "stream",
          "text": [
            "[CV] ......... C=1, gamma=1, kernel=linear, score=0.731, total=  14.5s\n",
            "[CV] C=1, gamma=1, kernel=linear .....................................\n"
          ],
          "name": "stdout"
        },
        {
          "output_type": "stream",
          "text": [
            "[Parallel(n_jobs=1)]: Done   2 out of   2 | elapsed:   31.2s remaining:    0.0s\n"
          ],
          "name": "stderr"
        },
        {
          "output_type": "stream",
          "text": [
            "[CV] ......... C=1, gamma=1, kernel=linear, score=0.742, total=  10.8s\n",
            "[CV] C=1, gamma=1, kernel=linear .....................................\n",
            "[CV] ......... C=1, gamma=1, kernel=linear, score=0.739, total=   5.6s\n",
            "[CV] C=1, gamma=1, kernel=linear .....................................\n",
            "[CV] ......... C=1, gamma=1, kernel=linear, score=0.728, total=   7.1s\n",
            "[CV] C=1, gamma=1, kernel=rbf ........................................\n",
            "[CV] ............ C=1, gamma=1, kernel=rbf, score=0.753, total=   0.0s\n",
            "[CV] C=1, gamma=1, kernel=rbf ........................................\n",
            "[CV] ............ C=1, gamma=1, kernel=rbf, score=0.731, total=   0.0s\n",
            "[CV] C=1, gamma=1, kernel=rbf ........................................\n",
            "[CV] ............ C=1, gamma=1, kernel=rbf, score=0.742, total=   0.0s\n",
            "[CV] C=1, gamma=1, kernel=rbf ........................................\n",
            "[CV] ............ C=1, gamma=1, kernel=rbf, score=0.750, total=   0.0s\n",
            "[CV] C=1, gamma=1, kernel=rbf ........................................\n",
            "[CV] ............ C=1, gamma=1, kernel=rbf, score=0.750, total=   0.0s\n",
            "[CV] C=1, gamma=0.1, kernel=linear ...................................\n",
            "[CV] ....... C=1, gamma=0.1, kernel=linear, score=0.731, total=  16.6s\n",
            "[CV] C=1, gamma=0.1, kernel=linear ...................................\n",
            "[CV] ....... C=1, gamma=0.1, kernel=linear, score=0.731, total=  14.5s\n",
            "[CV] C=1, gamma=0.1, kernel=linear ...................................\n",
            "[CV] ....... C=1, gamma=0.1, kernel=linear, score=0.742, total=  10.8s\n",
            "[CV] C=1, gamma=0.1, kernel=linear ...................................\n",
            "[CV] ....... C=1, gamma=0.1, kernel=linear, score=0.739, total=   5.6s\n",
            "[CV] C=1, gamma=0.1, kernel=linear ...................................\n",
            "[CV] ....... C=1, gamma=0.1, kernel=linear, score=0.728, total=   7.1s\n",
            "[CV] C=1, gamma=0.1, kernel=rbf ......................................\n",
            "[CV] .......... C=1, gamma=0.1, kernel=rbf, score=0.753, total=   0.0s\n",
            "[CV] C=1, gamma=0.1, kernel=rbf ......................................\n",
            "[CV] .......... C=1, gamma=0.1, kernel=rbf, score=0.731, total=   0.0s\n",
            "[CV] C=1, gamma=0.1, kernel=rbf ......................................\n",
            "[CV] .......... C=1, gamma=0.1, kernel=rbf, score=0.742, total=   0.0s\n",
            "[CV] C=1, gamma=0.1, kernel=rbf ......................................\n",
            "[CV] .......... C=1, gamma=0.1, kernel=rbf, score=0.750, total=   0.0s\n",
            "[CV] C=1, gamma=0.1, kernel=rbf ......................................\n",
            "[CV] .......... C=1, gamma=0.1, kernel=rbf, score=0.750, total=   0.0s\n",
            "[CV] C=1, gamma=0.01, kernel=linear ..................................\n",
            "[CV] ...... C=1, gamma=0.01, kernel=linear, score=0.731, total=  16.6s\n",
            "[CV] C=1, gamma=0.01, kernel=linear ..................................\n",
            "[CV] ...... C=1, gamma=0.01, kernel=linear, score=0.731, total=  14.5s\n",
            "[CV] C=1, gamma=0.01, kernel=linear ..................................\n",
            "[CV] ...... C=1, gamma=0.01, kernel=linear, score=0.742, total=  10.8s\n",
            "[CV] C=1, gamma=0.01, kernel=linear ..................................\n",
            "[CV] ...... C=1, gamma=0.01, kernel=linear, score=0.739, total=   5.6s\n",
            "[CV] C=1, gamma=0.01, kernel=linear ..................................\n",
            "[CV] ...... C=1, gamma=0.01, kernel=linear, score=0.728, total=   7.1s\n",
            "[CV] C=1, gamma=0.01, kernel=rbf .....................................\n",
            "[CV] ......... C=1, gamma=0.01, kernel=rbf, score=0.742, total=   0.0s\n",
            "[CV] C=1, gamma=0.01, kernel=rbf .....................................\n",
            "[CV] ......... C=1, gamma=0.01, kernel=rbf, score=0.710, total=   0.0s\n",
            "[CV] C=1, gamma=0.01, kernel=rbf .....................................\n",
            "[CV] ......... C=1, gamma=0.01, kernel=rbf, score=0.742, total=   0.0s\n",
            "[CV] C=1, gamma=0.01, kernel=rbf .....................................\n",
            "[CV] ......... C=1, gamma=0.01, kernel=rbf, score=0.783, total=   0.0s\n",
            "[CV] C=1, gamma=0.01, kernel=rbf .....................................\n",
            "[CV] ......... C=1, gamma=0.01, kernel=rbf, score=0.739, total=   0.0s\n",
            "[CV] C=1, gamma=0.001, kernel=linear .................................\n",
            "[CV] ..... C=1, gamma=0.001, kernel=linear, score=0.731, total=  16.7s\n",
            "[CV] C=1, gamma=0.001, kernel=linear .................................\n",
            "[CV] ..... C=1, gamma=0.001, kernel=linear, score=0.731, total=  14.4s\n",
            "[CV] C=1, gamma=0.001, kernel=linear .................................\n",
            "[CV] ..... C=1, gamma=0.001, kernel=linear, score=0.742, total=  10.8s\n",
            "[CV] C=1, gamma=0.001, kernel=linear .................................\n",
            "[CV] ..... C=1, gamma=0.001, kernel=linear, score=0.739, total=   5.6s\n",
            "[CV] C=1, gamma=0.001, kernel=linear .................................\n",
            "[CV] ..... C=1, gamma=0.001, kernel=linear, score=0.728, total=   7.1s\n",
            "[CV] C=1, gamma=0.001, kernel=rbf ....................................\n",
            "[CV] ........ C=1, gamma=0.001, kernel=rbf, score=0.699, total=   0.0s\n",
            "[CV] C=1, gamma=0.001, kernel=rbf ....................................\n",
            "[CV] ........ C=1, gamma=0.001, kernel=rbf, score=0.720, total=   0.0s\n",
            "[CV] C=1, gamma=0.001, kernel=rbf ....................................\n",
            "[CV] ........ C=1, gamma=0.001, kernel=rbf, score=0.763, total=   0.0s\n",
            "[CV] C=1, gamma=0.001, kernel=rbf ....................................\n",
            "[CV] ........ C=1, gamma=0.001, kernel=rbf, score=0.793, total=   0.0s\n",
            "[CV] C=1, gamma=0.001, kernel=rbf ....................................\n",
            "[CV] ........ C=1, gamma=0.001, kernel=rbf, score=0.728, total=   0.0s\n",
            "[CV] C=5, gamma=1, kernel=linear .....................................\n",
            "[CV] ......... C=5, gamma=1, kernel=linear, score=0.731, total=  27.8s\n",
            "[CV] C=5, gamma=1, kernel=linear .....................................\n",
            "[CV] ......... C=5, gamma=1, kernel=linear, score=0.731, total=  17.9s\n",
            "[CV] C=5, gamma=1, kernel=linear .....................................\n",
            "[CV] ......... C=5, gamma=1, kernel=linear, score=0.742, total=  49.1s\n",
            "[CV] C=5, gamma=1, kernel=linear .....................................\n",
            "[CV] ......... C=5, gamma=1, kernel=linear, score=0.739, total=   7.5s\n",
            "[CV] C=5, gamma=1, kernel=linear .....................................\n",
            "[CV] ......... C=5, gamma=1, kernel=linear, score=0.728, total=  12.6s\n",
            "[CV] C=5, gamma=1, kernel=rbf ........................................\n",
            "[CV] ............ C=5, gamma=1, kernel=rbf, score=0.753, total=   0.0s\n",
            "[CV] C=5, gamma=1, kernel=rbf ........................................\n",
            "[CV] ............ C=5, gamma=1, kernel=rbf, score=0.731, total=   0.0s\n",
            "[CV] C=5, gamma=1, kernel=rbf ........................................\n",
            "[CV] ............ C=5, gamma=1, kernel=rbf, score=0.742, total=   0.0s\n",
            "[CV] C=5, gamma=1, kernel=rbf ........................................\n",
            "[CV] ............ C=5, gamma=1, kernel=rbf, score=0.750, total=   0.0s\n",
            "[CV] C=5, gamma=1, kernel=rbf ........................................\n",
            "[CV] ............ C=5, gamma=1, kernel=rbf, score=0.750, total=   0.0s\n",
            "[CV] C=5, gamma=0.1, kernel=linear ...................................\n",
            "[CV] ....... C=5, gamma=0.1, kernel=linear, score=0.731, total=  27.7s\n",
            "[CV] C=5, gamma=0.1, kernel=linear ...................................\n",
            "[CV] ....... C=5, gamma=0.1, kernel=linear, score=0.731, total=  17.9s\n",
            "[CV] C=5, gamma=0.1, kernel=linear ...................................\n",
            "[CV] ....... C=5, gamma=0.1, kernel=linear, score=0.742, total=  49.2s\n",
            "[CV] C=5, gamma=0.1, kernel=linear ...................................\n",
            "[CV] ....... C=5, gamma=0.1, kernel=linear, score=0.739, total=   7.5s\n",
            "[CV] C=5, gamma=0.1, kernel=linear ...................................\n",
            "[CV] ....... C=5, gamma=0.1, kernel=linear, score=0.728, total=  12.6s\n",
            "[CV] C=5, gamma=0.1, kernel=rbf ......................................\n",
            "[CV] .......... C=5, gamma=0.1, kernel=rbf, score=0.753, total=   0.0s\n",
            "[CV] C=5, gamma=0.1, kernel=rbf ......................................\n",
            "[CV] .......... C=5, gamma=0.1, kernel=rbf, score=0.731, total=   0.0s\n",
            "[CV] C=5, gamma=0.1, kernel=rbf ......................................\n",
            "[CV] .......... C=5, gamma=0.1, kernel=rbf, score=0.742, total=   0.0s\n",
            "[CV] C=5, gamma=0.1, kernel=rbf ......................................\n",
            "[CV] .......... C=5, gamma=0.1, kernel=rbf, score=0.750, total=   0.0s\n",
            "[CV] C=5, gamma=0.1, kernel=rbf ......................................\n",
            "[CV] .......... C=5, gamma=0.1, kernel=rbf, score=0.739, total=   0.0s\n",
            "[CV] C=5, gamma=0.01, kernel=linear ..................................\n",
            "[CV] ...... C=5, gamma=0.01, kernel=linear, score=0.731, total=  27.8s\n",
            "[CV] C=5, gamma=0.01, kernel=linear ..................................\n",
            "[CV] ...... C=5, gamma=0.01, kernel=linear, score=0.731, total=  17.9s\n",
            "[CV] C=5, gamma=0.01, kernel=linear ..................................\n",
            "[CV] ...... C=5, gamma=0.01, kernel=linear, score=0.742, total=  49.0s\n",
            "[CV] C=5, gamma=0.01, kernel=linear ..................................\n",
            "[CV] ...... C=5, gamma=0.01, kernel=linear, score=0.739, total=   7.5s\n",
            "[CV] C=5, gamma=0.01, kernel=linear ..................................\n",
            "[CV] ...... C=5, gamma=0.01, kernel=linear, score=0.728, total=  12.6s\n",
            "[CV] C=5, gamma=0.01, kernel=rbf .....................................\n",
            "[CV] ......... C=5, gamma=0.01, kernel=rbf, score=0.731, total=   0.0s\n",
            "[CV] C=5, gamma=0.01, kernel=rbf .....................................\n",
            "[CV] ......... C=5, gamma=0.01, kernel=rbf, score=0.688, total=   0.0s\n",
            "[CV] C=5, gamma=0.01, kernel=rbf .....................................\n",
            "[CV] ......... C=5, gamma=0.01, kernel=rbf, score=0.785, total=   0.0s\n",
            "[CV] C=5, gamma=0.01, kernel=rbf .....................................\n",
            "[CV] ......... C=5, gamma=0.01, kernel=rbf, score=0.793, total=   0.0s\n",
            "[CV] C=5, gamma=0.01, kernel=rbf .....................................\n",
            "[CV] ......... C=5, gamma=0.01, kernel=rbf, score=0.696, total=   0.0s\n",
            "[CV] C=5, gamma=0.001, kernel=linear .................................\n",
            "[CV] ..... C=5, gamma=0.001, kernel=linear, score=0.731, total=  27.7s\n",
            "[CV] C=5, gamma=0.001, kernel=linear .................................\n",
            "[CV] ..... C=5, gamma=0.001, kernel=linear, score=0.731, total=  17.8s\n",
            "[CV] C=5, gamma=0.001, kernel=linear .................................\n",
            "[CV] ..... C=5, gamma=0.001, kernel=linear, score=0.742, total=  49.0s\n",
            "[CV] C=5, gamma=0.001, kernel=linear .................................\n",
            "[CV] ..... C=5, gamma=0.001, kernel=linear, score=0.739, total=   7.5s\n",
            "[CV] C=5, gamma=0.001, kernel=linear .................................\n",
            "[CV] ..... C=5, gamma=0.001, kernel=linear, score=0.728, total=  12.6s\n",
            "[CV] C=5, gamma=0.001, kernel=rbf ....................................\n",
            "[CV] ........ C=5, gamma=0.001, kernel=rbf, score=0.667, total=   0.0s\n",
            "[CV] C=5, gamma=0.001, kernel=rbf ....................................\n",
            "[CV] ........ C=5, gamma=0.001, kernel=rbf, score=0.645, total=   0.0s\n",
            "[CV] C=5, gamma=0.001, kernel=rbf ....................................\n",
            "[CV] ........ C=5, gamma=0.001, kernel=rbf, score=0.742, total=   0.0s\n",
            "[CV] C=5, gamma=0.001, kernel=rbf ....................................\n",
            "[CV] ........ C=5, gamma=0.001, kernel=rbf, score=0.772, total=   0.0s\n",
            "[CV] C=5, gamma=0.001, kernel=rbf ....................................\n",
            "[CV] ........ C=5, gamma=0.001, kernel=rbf, score=0.739, total=   0.0s\n",
            "[CV] C=10, gamma=1, kernel=linear ....................................\n",
            "[CV] ........ C=10, gamma=1, kernel=linear, score=0.731, total=  60.0s\n",
            "[CV] C=10, gamma=1, kernel=linear ....................................\n",
            "[CV] ........ C=10, gamma=1, kernel=linear, score=0.753, total=  19.6s\n",
            "[CV] C=10, gamma=1, kernel=linear ....................................\n",
            "[CV] ........ C=10, gamma=1, kernel=linear, score=0.742, total=  30.4s\n",
            "[CV] C=10, gamma=1, kernel=linear ....................................\n",
            "[CV] ........ C=10, gamma=1, kernel=linear, score=0.739, total=  11.7s\n",
            "[CV] C=10, gamma=1, kernel=linear ....................................\n",
            "[CV] ........ C=10, gamma=1, kernel=linear, score=0.728, total=  11.3s\n",
            "[CV] C=10, gamma=1, kernel=rbf .......................................\n",
            "[CV] ........... C=10, gamma=1, kernel=rbf, score=0.753, total=   0.0s\n",
            "[CV] C=10, gamma=1, kernel=rbf .......................................\n",
            "[CV] ........... C=10, gamma=1, kernel=rbf, score=0.731, total=   0.0s\n",
            "[CV] C=10, gamma=1, kernel=rbf .......................................\n",
            "[CV] ........... C=10, gamma=1, kernel=rbf, score=0.742, total=   0.0s\n",
            "[CV] C=10, gamma=1, kernel=rbf .......................................\n",
            "[CV] ........... C=10, gamma=1, kernel=rbf, score=0.750, total=   0.0s\n",
            "[CV] C=10, gamma=1, kernel=rbf .......................................\n",
            "[CV] ........... C=10, gamma=1, kernel=rbf, score=0.750, total=   0.0s\n",
            "[CV] C=10, gamma=0.1, kernel=linear ..................................\n",
            "[CV] ...... C=10, gamma=0.1, kernel=linear, score=0.731, total=  59.9s\n",
            "[CV] C=10, gamma=0.1, kernel=linear ..................................\n",
            "[CV] ...... C=10, gamma=0.1, kernel=linear, score=0.753, total=  19.6s\n",
            "[CV] C=10, gamma=0.1, kernel=linear ..................................\n",
            "[CV] ...... C=10, gamma=0.1, kernel=linear, score=0.742, total=  30.4s\n",
            "[CV] C=10, gamma=0.1, kernel=linear ..................................\n",
            "[CV] ...... C=10, gamma=0.1, kernel=linear, score=0.739, total=  11.7s\n",
            "[CV] C=10, gamma=0.1, kernel=linear ..................................\n",
            "[CV] ...... C=10, gamma=0.1, kernel=linear, score=0.728, total=  11.3s\n",
            "[CV] C=10, gamma=0.1, kernel=rbf .....................................\n",
            "[CV] ......... C=10, gamma=0.1, kernel=rbf, score=0.753, total=   0.0s\n",
            "[CV] C=10, gamma=0.1, kernel=rbf .....................................\n",
            "[CV] ......... C=10, gamma=0.1, kernel=rbf, score=0.731, total=   0.0s\n",
            "[CV] C=10, gamma=0.1, kernel=rbf .....................................\n",
            "[CV] ......... C=10, gamma=0.1, kernel=rbf, score=0.742, total=   0.0s\n",
            "[CV] C=10, gamma=0.1, kernel=rbf .....................................\n",
            "[CV] ......... C=10, gamma=0.1, kernel=rbf, score=0.750, total=   0.0s\n",
            "[CV] C=10, gamma=0.1, kernel=rbf .....................................\n",
            "[CV] ......... C=10, gamma=0.1, kernel=rbf, score=0.739, total=   0.0s\n",
            "[CV] C=10, gamma=0.01, kernel=linear .................................\n",
            "[CV] ..... C=10, gamma=0.01, kernel=linear, score=0.731, total=  59.8s\n",
            "[CV] C=10, gamma=0.01, kernel=linear .................................\n",
            "[CV] ..... C=10, gamma=0.01, kernel=linear, score=0.753, total=  19.6s\n",
            "[CV] C=10, gamma=0.01, kernel=linear .................................\n",
            "[CV] ..... C=10, gamma=0.01, kernel=linear, score=0.742, total=  30.3s\n",
            "[CV] C=10, gamma=0.01, kernel=linear .................................\n",
            "[CV] ..... C=10, gamma=0.01, kernel=linear, score=0.739, total=  11.7s\n",
            "[CV] C=10, gamma=0.01, kernel=linear .................................\n",
            "[CV] ..... C=10, gamma=0.01, kernel=linear, score=0.728, total=  11.3s\n",
            "[CV] C=10, gamma=0.01, kernel=rbf ....................................\n",
            "[CV] ........ C=10, gamma=0.01, kernel=rbf, score=0.742, total=   0.0s\n",
            "[CV] C=10, gamma=0.01, kernel=rbf ....................................\n",
            "[CV] ........ C=10, gamma=0.01, kernel=rbf, score=0.688, total=   0.0s\n",
            "[CV] C=10, gamma=0.01, kernel=rbf ....................................\n",
            "[CV] ........ C=10, gamma=0.01, kernel=rbf, score=0.785, total=   0.0s\n",
            "[CV] C=10, gamma=0.01, kernel=rbf ....................................\n",
            "[CV] ........ C=10, gamma=0.01, kernel=rbf, score=0.793, total=   0.0s\n",
            "[CV] C=10, gamma=0.01, kernel=rbf ....................................\n",
            "[CV] ........ C=10, gamma=0.01, kernel=rbf, score=0.696, total=   0.0s\n",
            "[CV] C=10, gamma=0.001, kernel=linear ................................\n",
            "[CV] .... C=10, gamma=0.001, kernel=linear, score=0.731, total=  59.9s\n",
            "[CV] C=10, gamma=0.001, kernel=linear ................................\n",
            "[CV] .... C=10, gamma=0.001, kernel=linear, score=0.753, total=  19.6s\n",
            "[CV] C=10, gamma=0.001, kernel=linear ................................\n",
            "[CV] .... C=10, gamma=0.001, kernel=linear, score=0.742, total=  30.3s\n",
            "[CV] C=10, gamma=0.001, kernel=linear ................................\n",
            "[CV] .... C=10, gamma=0.001, kernel=linear, score=0.739, total=  11.7s\n",
            "[CV] C=10, gamma=0.001, kernel=linear ................................\n",
            "[CV] .... C=10, gamma=0.001, kernel=linear, score=0.728, total=  11.3s\n",
            "[CV] C=10, gamma=0.001, kernel=rbf ...................................\n",
            "[CV] ....... C=10, gamma=0.001, kernel=rbf, score=0.699, total=   0.0s\n",
            "[CV] C=10, gamma=0.001, kernel=rbf ...................................\n",
            "[CV] ....... C=10, gamma=0.001, kernel=rbf, score=0.656, total=   0.0s\n",
            "[CV] C=10, gamma=0.001, kernel=rbf ...................................\n",
            "[CV] ....... C=10, gamma=0.001, kernel=rbf, score=0.731, total=   0.0s\n",
            "[CV] C=10, gamma=0.001, kernel=rbf ...................................\n",
            "[CV] ....... C=10, gamma=0.001, kernel=rbf, score=0.750, total=   0.0s\n",
            "[CV] C=10, gamma=0.001, kernel=rbf ...................................\n",
            "[CV] ....... C=10, gamma=0.001, kernel=rbf, score=0.728, total=   0.0s\n"
          ],
          "name": "stdout"
        },
        {
          "output_type": "stream",
          "text": [
            "[Parallel(n_jobs=1)]: Done 120 out of 120 | elapsed: 20.2min finished\n"
          ],
          "name": "stderr"
        },
        {
          "output_type": "execute_result",
          "data": {
            "text/plain": [
              "GridSearchCV(cv=None, error_score=nan,\n",
              "             estimator=SVC(C=1.0, break_ties=False, cache_size=200,\n",
              "                           class_weight=None, coef0=0.0,\n",
              "                           decision_function_shape='ovr', degree=3,\n",
              "                           gamma='scale', kernel='rbf', max_iter=-1,\n",
              "                           probability=False, random_state=None, shrinking=True,\n",
              "                           tol=0.001, verbose=False),\n",
              "             iid='deprecated', n_jobs=None,\n",
              "             param_grid={'C': [1, 5, 10], 'gamma': [1, 0.1, 0.01, 0.001],\n",
              "                         'kernel': ('linear', 'rbf')},\n",
              "             pre_dispatch='2*n_jobs', refit=True, return_train_score=False,\n",
              "             scoring=None, verbose=3)"
            ]
          },
          "metadata": {
            "tags": []
          },
          "execution_count": 13
        }
      ]
    },
    {
      "cell_type": "code",
      "metadata": {
        "id": "Bz5GF38Oal4S",
        "outputId": "a569d4da-367e-4bc1-d559-5d27f03c81aa",
        "colab": {
          "base_uri": "https://localhost:8080/"
        }
      },
      "source": [
        "#print(grid.best_params_)\n",
        "#print(grid.best_score_)"
      ],
      "execution_count": 14,
      "outputs": [
        {
          "output_type": "stream",
          "text": [
            "{'C': 1, 'gamma': 1, 'kernel': 'rbf'}\n",
            "0.7451612903225806\n"
          ],
          "name": "stdout"
        }
      ]
    },
    {
      "cell_type": "markdown",
      "metadata": {
        "id": "Oo-CAHCrbzTW"
      },
      "source": [
        "# **validate modle**"
      ]
    },
    {
      "cell_type": "code",
      "metadata": {
        "id": "SLFF_w0gbw3c",
        "outputId": "5525a1c7-22c7-433e-9080-dda5e99fbdd6",
        "colab": {
          "base_uri": "https://localhost:8080/"
        }
      },
      "source": [
        "print(model.score(x_train , y_train))\n",
        "print(model.score(x_test , y_test))"
      ],
      "execution_count": 17,
      "outputs": [
        {
          "output_type": "stream",
          "text": [
            "1.0\n",
            "0.6293103448275862\n"
          ],
          "name": "stdout"
        }
      ]
    },
    {
      "cell_type": "markdown",
      "metadata": {
        "id": "DozjQGhXcGyF"
      },
      "source": [
        "#**save model** \n"
      ]
    },
    {
      "cell_type": "code",
      "metadata": {
        "id": "CXT3ilUZb3er"
      },
      "source": [
        "pickle.dump(model , open(r\"mushrooms.pkl\",\"wb\"))"
      ],
      "execution_count": 19,
      "outputs": []
    }
  ]
}