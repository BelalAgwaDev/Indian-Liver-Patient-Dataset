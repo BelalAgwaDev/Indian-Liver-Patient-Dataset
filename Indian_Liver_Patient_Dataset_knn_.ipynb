{
  "nbformat": 4,
  "nbformat_minor": 0,
  "metadata": {
    "colab": {
      "name": "Indian Liver Patient Dataset knn .ipynb",
      "provenance": []
    },
    "kernelspec": {
      "name": "python3",
      "display_name": "Python 3"
    }
  },
  "cells": [
    {
      "cell_type": "markdown",
      "metadata": {
        "id": "LAzIOn7UUH4B"
      },
      "source": [
        "# **import library**"
      ]
    },
    {
      "cell_type": "code",
      "metadata": {
        "id": "epRYKsc0TzY8"
      },
      "source": [
        "import pickle\n",
        "import numpy as np\n",
        "import pandas as pd\n",
        "from sklearn import svm\n",
        "from sklearn.preprocessing import LabelEncoder\n",
        "from sklearn.model_selection import train_test_split\n",
        "np.random.seed(42)"
      ],
      "execution_count": 5,
      "outputs": []
    },
    {
      "cell_type": "markdown",
      "metadata": {
        "id": "a5OQ7ckjURAi"
      },
      "source": [
        "# **load data**"
      ]
    },
    {
      "cell_type": "code",
      "metadata": {
        "id": "3mt6yNeOT2mu"
      },
      "source": [
        "#load data\n",
        "load_data=pd.read_csv(r\"/content/Indian Liver Patient Dataset (ILPD).csv\")"
      ],
      "execution_count": 6,
      "outputs": []
    },
    {
      "cell_type": "markdown",
      "metadata": {
        "id": "qZBF4RJrUcPz"
      },
      "source": [
        "#view sample data\n"
      ]
    },
    {
      "cell_type": "code",
      "metadata": {
        "id": "NAHdStCcUY1O",
        "outputId": "bf466c78-2aa1-4b23-a289-8847759ac8d7",
        "colab": {
          "base_uri": "https://localhost:8080/"
        }
      },
      "source": [
        "print(load_data.head())"
      ],
      "execution_count": 7,
      "outputs": [
        {
          "output_type": "stream",
          "text": [
            "   age  gender  tot_bilirubin  ...  sgot  alkphos  is_patient\n",
            "0   65  Female            0.7  ...   3.3     0.90           1\n",
            "1   62    Male           10.9  ...   3.2     0.74           1\n",
            "2   62    Male            7.3  ...   3.3     0.89           1\n",
            "3   58    Male            1.0  ...   3.4     1.00           1\n",
            "4   72    Male            3.9  ...   2.4     0.40           1\n",
            "\n",
            "[5 rows x 11 columns]\n"
          ],
          "name": "stdout"
        }
      ]
    },
    {
      "cell_type": "markdown",
      "metadata": {
        "id": "Gm7KwJTtU0tN"
      },
      "source": [
        "# **handel missing data**"
      ]
    },
    {
      "cell_type": "code",
      "metadata": {
        "id": "eqfEdgkGUbxL",
        "outputId": "faf4937d-1296-4d92-8dae-a636f099fb2c",
        "colab": {
          "base_uri": "https://localhost:8080/"
        }
      },
      "source": [
        "print(load_data.info())\n",
        "\n"
      ],
      "execution_count": 8,
      "outputs": [
        {
          "output_type": "stream",
          "text": [
            "<class 'pandas.core.frame.DataFrame'>\n",
            "RangeIndex: 583 entries, 0 to 582\n",
            "Data columns (total 11 columns):\n",
            " #   Column            Non-Null Count  Dtype  \n",
            "---  ------            --------------  -----  \n",
            " 0   age               583 non-null    int64  \n",
            " 1   gender            583 non-null    object \n",
            " 2   tot_bilirubin     583 non-null    float64\n",
            " 3   direct_bilirubin  583 non-null    float64\n",
            " 4   tot_proteins      583 non-null    int64  \n",
            " 5   albumin           583 non-null    int64  \n",
            " 6   ag_ratio          583 non-null    int64  \n",
            " 7   sgpt              583 non-null    float64\n",
            " 8   sgot              583 non-null    float64\n",
            " 9   alkphos           579 non-null    float64\n",
            " 10  is_patient        583 non-null    int64  \n",
            "dtypes: float64(5), int64(5), object(1)\n",
            "memory usage: 50.2+ KB\n",
            "None\n"
          ],
          "name": "stdout"
        }
      ]
    },
    {
      "cell_type": "code",
      "metadata": {
        "id": "sOZ5Mptcpmqu"
      },
      "source": [
        "load_data.dropna(how=\"any\",inplace=True)"
      ],
      "execution_count": 9,
      "outputs": []
    },
    {
      "cell_type": "code",
      "metadata": {
        "id": "WuVeMxPiq3Uo",
        "outputId": "fa3b624f-d058-4b92-e871-cb8215a54736",
        "colab": {
          "base_uri": "https://localhost:8080/"
        }
      },
      "source": [
        "print(load_data.info())"
      ],
      "execution_count": 10,
      "outputs": [
        {
          "output_type": "stream",
          "text": [
            "<class 'pandas.core.frame.DataFrame'>\n",
            "Int64Index: 579 entries, 0 to 582\n",
            "Data columns (total 11 columns):\n",
            " #   Column            Non-Null Count  Dtype  \n",
            "---  ------            --------------  -----  \n",
            " 0   age               579 non-null    int64  \n",
            " 1   gender            579 non-null    object \n",
            " 2   tot_bilirubin     579 non-null    float64\n",
            " 3   direct_bilirubin  579 non-null    float64\n",
            " 4   tot_proteins      579 non-null    int64  \n",
            " 5   albumin           579 non-null    int64  \n",
            " 6   ag_ratio          579 non-null    int64  \n",
            " 7   sgpt              579 non-null    float64\n",
            " 8   sgot              579 non-null    float64\n",
            " 9   alkphos           579 non-null    float64\n",
            " 10  is_patient        579 non-null    int64  \n",
            "dtypes: float64(5), int64(5), object(1)\n",
            "memory usage: 54.3+ KB\n",
            "None\n"
          ],
          "name": "stdout"
        }
      ]
    },
    {
      "cell_type": "markdown",
      "metadata": {
        "id": "vTtT68pSVF_9"
      },
      "source": [
        "# ** map labled data **"
      ]
    },
    {
      "cell_type": "code",
      "metadata": {
        "id": "r2wah3tmVBnM"
      },
      "source": [
        "load_data[\"gender\"] =load_data[\"gender\"].map({\"Female\": 0 , \"Male\":1 })\n",
        "X=load_data.drop('is_patient',axis=1)\n",
        "y=load_data['is_patient']"
      ],
      "execution_count": 11,
      "outputs": []
    },
    {
      "cell_type": "markdown",
      "metadata": {
        "id": "YKxofxgHV3lm"
      },
      "source": [
        "#**split data to train \\ test**"
      ]
    },
    {
      "cell_type": "code",
      "metadata": {
        "id": "_7RJq4sPV9cG"
      },
      "source": [
        "x_train,x_test,y_train,y_test=train_test_split(X,y,test_size=0.2)"
      ],
      "execution_count": 12,
      "outputs": []
    },
    {
      "cell_type": "markdown",
      "metadata": {
        "id": "R4T1QWfoWJH8"
      },
      "source": [
        "#**choose model**\n",
        "\n"
      ]
    },
    {
      "cell_type": "code",
      "metadata": {
        "id": "Z_rN1aApV_tx"
      },
      "source": [
        "from sklearn.neighbors import KNeighborsClassifier\n",
        "model = KNeighborsClassifier(n_neighbors=3) "
      ],
      "execution_count": 20,
      "outputs": []
    },
    {
      "cell_type": "markdown",
      "metadata": {
        "id": "gP_LmB1uWO5D"
      },
      "source": [
        "#**train model** "
      ]
    },
    {
      "cell_type": "code",
      "metadata": {
        "id": "a9txL9BxWyyC",
        "outputId": "7ebc49db-13a7-4d40-99e2-377b7f5f35e0",
        "colab": {
          "base_uri": "https://localhost:8080/"
        }
      },
      "source": [
        "model.fit(x_train,y_train)"
      ],
      "execution_count": 21,
      "outputs": [
        {
          "output_type": "execute_result",
          "data": {
            "text/plain": [
              "KNeighborsClassifier(algorithm='auto', leaf_size=30, metric='minkowski',\n",
              "                     metric_params=None, n_jobs=None, n_neighbors=3, p=2,\n",
              "                     weights='uniform')"
            ]
          },
          "metadata": {
            "tags": []
          },
          "execution_count": 21
        }
      ]
    },
    {
      "cell_type": "markdown",
      "metadata": {
        "id": "Oo-CAHCrbzTW"
      },
      "source": [
        "# **validate modle**"
      ]
    },
    {
      "cell_type": "code",
      "metadata": {
        "id": "SLFF_w0gbw3c",
        "outputId": "33d0e97d-8343-4488-94a8-01c3164e12bc",
        "colab": {
          "base_uri": "https://localhost:8080/"
        }
      },
      "source": [
        "print(model.score(x_train , y_train))\n",
        "print(model.score(x_test , y_test))"
      ],
      "execution_count": 22,
      "outputs": [
        {
          "output_type": "stream",
          "text": [
            "0.8531317494600432\n",
            "0.6379310344827587\n"
          ],
          "name": "stdout"
        }
      ]
    },
    {
      "cell_type": "markdown",
      "metadata": {
        "id": "DozjQGhXcGyF"
      },
      "source": [
        "#**save model** \n"
      ]
    },
    {
      "cell_type": "code",
      "metadata": {
        "id": "CXT3ilUZb3er"
      },
      "source": [
        "pickle.dump(model , open(r\"mushrooms.pkl\",\"wb\"))"
      ],
      "execution_count": 19,
      "outputs": []
    }
  ]
}